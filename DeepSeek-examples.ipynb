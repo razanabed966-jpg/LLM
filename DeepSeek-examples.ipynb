{
 "cells": [
  {
   "cell_type": "code",
   "execution_count": 1,
   "id": "30f1b34c",
   "metadata": {},
   "outputs": [
    {
     "name": "stdout",
     "output_type": "stream",
     "text": [
      "Requirement already satisfied: groq in d:\\programs\\ai-course\\2- llms\\new_llms\\bert\\myenv\\lib\\site-packages (0.30.0)\n",
      "Requirement already satisfied: anyio<5,>=3.5.0 in d:\\programs\\ai-course\\2- llms\\new_llms\\bert\\myenv\\lib\\site-packages (from groq) (4.9.0)\n",
      "Requirement already satisfied: distro<2,>=1.7.0 in d:\\programs\\ai-course\\2- llms\\new_llms\\bert\\myenv\\lib\\site-packages (from groq) (1.9.0)\n",
      "Requirement already satisfied: httpx<1,>=0.23.0 in d:\\programs\\ai-course\\2- llms\\new_llms\\bert\\myenv\\lib\\site-packages (from groq) (0.28.1)\n",
      "Requirement already satisfied: pydantic<3,>=1.9.0 in d:\\programs\\ai-course\\2- llms\\new_llms\\bert\\myenv\\lib\\site-packages (from groq) (2.11.7)\n",
      "Requirement already satisfied: sniffio in d:\\programs\\ai-course\\2- llms\\new_llms\\bert\\myenv\\lib\\site-packages (from groq) (1.3.1)\n",
      "Requirement already satisfied: typing-extensions<5,>=4.10 in d:\\programs\\ai-course\\2- llms\\new_llms\\bert\\myenv\\lib\\site-packages (from groq) (4.14.0)\n",
      "Requirement already satisfied: exceptiongroup>=1.0.2 in d:\\programs\\ai-course\\2- llms\\new_llms\\bert\\myenv\\lib\\site-packages (from anyio<5,>=3.5.0->groq) (1.3.0)\n",
      "Requirement already satisfied: idna>=2.8 in d:\\programs\\ai-course\\2- llms\\new_llms\\bert\\myenv\\lib\\site-packages (from anyio<5,>=3.5.0->groq) (3.10)\n",
      "Requirement already satisfied: certifi in d:\\programs\\ai-course\\2- llms\\new_llms\\bert\\myenv\\lib\\site-packages (from httpx<1,>=0.23.0->groq) (2025.6.15)\n",
      "Requirement already satisfied: httpcore==1.* in d:\\programs\\ai-course\\2- llms\\new_llms\\bert\\myenv\\lib\\site-packages (from httpx<1,>=0.23.0->groq) (1.0.9)\n",
      "Requirement already satisfied: h11>=0.16 in d:\\programs\\ai-course\\2- llms\\new_llms\\bert\\myenv\\lib\\site-packages (from httpcore==1.*->httpx<1,>=0.23.0->groq) (0.16.0)\n",
      "Requirement already satisfied: annotated-types>=0.6.0 in d:\\programs\\ai-course\\2- llms\\new_llms\\bert\\myenv\\lib\\site-packages (from pydantic<3,>=1.9.0->groq) (0.7.0)\n",
      "Requirement already satisfied: pydantic-core==2.33.2 in d:\\programs\\ai-course\\2- llms\\new_llms\\bert\\myenv\\lib\\site-packages (from pydantic<3,>=1.9.0->groq) (2.33.2)\n",
      "Requirement already satisfied: typing-inspection>=0.4.0 in d:\\programs\\ai-course\\2- llms\\new_llms\\bert\\myenv\\lib\\site-packages (from pydantic<3,>=1.9.0->groq) (0.4.1)\n",
      "Note: you may need to restart the kernel to use updated packages.\n"
     ]
    }
   ],
   "source": [
    "pip install groq"
   ]
  },
  {
   "cell_type": "code",
   "execution_count": 2,
   "id": "7ca12b2d",
   "metadata": {},
   "outputs": [],
   "source": [
    "from groq import Groq\n",
    "from IPython.display import Markdown\n",
    "\n",
    "client = Groq(api_key=\"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\")\n",
    "\n",
    "def ask_groq(prompt,\n",
    "             system_message=\"You are a helpful assistant.\",\n",
    "             model=\"deepseek-r1-distill-llama-70b\",\n",
    "             temperature=0.7):\n",
    "    \n",
    "    response = client.chat.completions.create(\n",
    "        messages=[\n",
    "            {\"role\": \"system\", \"content\": system_message},\n",
    "            {\"role\": \"user\", \"content\": prompt},\n",
    "        ],\n",
    "        model=model,\n",
    "        temperature=temperature\n",
    "    )\n",
    "    return response.choices[0].message.content"
   ]
  },
  {
   "cell_type": "code",
   "execution_count": 3,
   "id": "5acc17f8",
   "metadata": {},
   "outputs": [
    {
     "data": {
      "text/plain": [
       "\"<think>\\nOkay, so I need to explain the difference between artificial intelligence and machine learning. Hmm, I've heard both terms a lot, especially in tech discussions. But I'm not entirely sure how they're different. Let me think this through step by step.\\n\\nFirst, I know that AI stands for Artificial Intelligence. From what I've heard, AI refers to machines that can perform tasks that typically require human intelligence. Like robots or computers doing things that humans do, such as understanding language, recognizing images, or making decisions. So, AI seems like a broad concept that includes various technologies.\\n\\nThen there's machine learning, which I think is a subset of AI. I've heard people talk about ML in the context of systems learning from data. For example, recommendation systems on Netflix or Spotify use ML to suggest content based on your viewing or listening history. So, ML is about algorithms that improve at tasks by learning from data rather than being explicitly programmed.\\n\\nWait, so AI is the bigger category, and ML is a part of it? That makes sense. AI can include things beyond ML, like rule-based systems or expert systems. For example, a chatbot that uses predefined rules to answer questions might be considered AI but not necessarily ML because it's not learning from data.\\n\\nLet me think of examples. AI could be something like a chess game on a computer. The game can make moves based on rules and strategies programmed into it. It doesn't learn from playing; it just follows the rules. On the other hand, machine learning would be like a system that analyzes a user's purchasing behavior and then makes predictions about future purchases. The system gets better over time as it processes more data.\\n\\nSo, AI is about creating systems that can perform intelligent tasks, while ML is a specific approach within AI that focuses on enabling machines to learn from data to make decisions or predictions without being explicitly programmed.\\n\\nI should also consider other aspects. AI can encompass areas like natural language processing, robotics, computer vision, and more. ML is a key enabler for many of these areas because it allows systems to improve over time without manual intervention.\\n\\nAnother point is that while all ML is AI, not all AI is ML. There are AI systems that don't use machine learning, like expert systems that rely on predefined rules. Conversely, every machine learning system is a type of AI because it's designed to perform tasks that would typically require human intelligence, such as pattern recognition or decision-making.\\n\\nI should also think about how they're applied. AI applications can be broad, including things like autonomous vehicles, speech recognition, and game playing. Machine learning is more about the data-driven approach to achieve these AI applications. For instance, an autonomous vehicle might use ML to recognize objects and make driving decisions based on the data it's been trained on.\\n\\nSo, summarizing my thoughts: AI is the overarching field focused on creating machines that can perform tasks that require human-like intelligence. Machine learning is a subset of AI that specifically uses data to train algorithms to make decisions or predictions without explicit programming. AI includes both ML and other approaches like rule-based systems.\\n\\nI think that covers the main differences. I should make sure I'm not conflating any concepts here. Maybe I should also look up some definitions to confirm, but based on what I know, this seems accurate.\\n</think>\\n\\nArtificial Intelligence (AI) and Machine Learning (ML) are related but distinct concepts within the realm of technology. Here's a clear breakdown of their differences:\\n\\n1. **Artificial Intelligence (AI):**\\n   - **Definition:** AI refers to the broader field of creating machines capable of performing tasks that typically require human intelligence. These tasks include understanding language, recognizing images, making decisions, and solving problems.\\n   - **Scope:** AI is a comprehensive field that encompasses various approaches and technologies, including rule-based systems, expert systems, and machine learning.\\n   - **Examples:** AI applications include chess games, chatbots that use predefined rules, and systems that simulate human decision-making processes.\\n\\n2. **Machine Learning (ML):**\\n   - **Definition:** ML is a subset of AI that focuses on the development of algorithms that enable machines to learn from and make decisions based on data without being explicitly programmed.\\n   - **Scope:** ML is a specific approach within AI that emphasizes data-driven learning to improve system performance over time.\\n   - **Examples:** ML applications include recommendation systems on platforms like Netflix, predictive analytics in finance, and object recognition in autonomous vehicles.\\n\\n3. **Key Differences:**\\n   - **Breadth vs. Specificity:** AI is a broad field, while ML is a specific part of AI focused on learning from data.\\n   - **Approach:** AI can include rule-based systems, whereas ML relies on data to train models that make predictions or decisions.\\n   - **Application:** While all ML is AI, not all AI is ML. AI includes both ML and non-ML approaches.\\n\\nIn summary, AI is the overarching field aimed at creating intelligent machines, with ML being a key component that enables these machines to learn and improve from data.\""
      ]
     },
     "execution_count": 3,
     "metadata": {},
     "output_type": "execute_result"
    }
   ],
   "source": [
    "ask_groq(\"Explain the difference between artificial intelligence and machine learning.\")"
   ]
  },
  {
   "cell_type": "code",
   "execution_count": 4,
   "id": "9754695d",
   "metadata": {},
   "outputs": [],
   "source": [
    "import re\n",
    "\n",
    "def remove_thinking(text):\n",
    "    \n",
    "    cleaned_text = re.sub(r\"<think>.*?</think>\", \"\", text, flags=re.DOTALL)\n",
    "    \n",
    "    return cleaned_text.strip()"
   ]
  },
  {
   "cell_type": "code",
   "execution_count": 5,
   "id": "a10c9507",
   "metadata": {},
   "outputs": [
    {
     "data": {
      "text/markdown": [
       "**Artificial Intelligence (AI) and Machine Learning (ML): An Explanation**\n",
       "\n",
       "**Artificial Intelligence (AI):**\n",
       "- **Definition:** AI refers to the broad field of computer science focused on creating machines capable of performing tasks that typically require human intelligence. These tasks include learning, reasoning, problem-solving, perception, and language understanding.\n",
       "- **Scope:** AI encompasses a wide range of approaches, including rule-based systems (expert systems), optimization, and machine learning. It aims to simulate human intelligence in machines, enabling them to execute tasks that would otherwise require human input.\n",
       "\n",
       "**Machine Learning (ML):**\n",
       "- **Definition:** Machine learning is a subset of AI that involves the use of algorithms to enable machines to learn from data and improve their performance on specific tasks without being explicitly programmed.\n",
       "- **Approach:** ML focuses on developing algorithms that can learn patterns and relationships from data, improving their accuracy and decision-making capabilities over time. This approach is data-driven, relying on large datasets to train models that can make predictions or decisions.\n",
       "\n",
       "**Key Differences:**\n",
       "1. **Scope:** AI is broader, covering all methods to create intelligent machines, while ML is a specific technique within AI focused on learning from data.\n",
       "2. **Methodology:** AI can include rule-based systems, whereas ML relies on data and iterative learning processes.\n",
       "3. **Application:** Examples of AI include chess games using predefined strategies, while ML applications include spam filters that learn from data to improve accuracy.\n",
       "\n",
       "**Deep Learning (DL):**\n",
       "- **Role:** Deep learning is a subset of machine learning that uses neural networks with multiple layers to model complex patterns in data, enabling advanced applications like image and speech recognition.\n",
       "\n",
       "**Summary:**\n",
       "- AI is the overarching goal of creating intelligent machines.\n",
       "- Machine learning is a specific method within AI that leverages data to enable systems to learn and improve, making it a powerful tool for achieving AI's objectives."
      ],
      "text/plain": [
       "<IPython.core.display.Markdown object>"
      ]
     },
     "execution_count": 5,
     "metadata": {},
     "output_type": "execute_result"
    }
   ],
   "source": [
    "Markdown(remove_thinking(ask_groq(\"Explain the difference between artificial intelligence and machine learning.\")))"
   ]
  },
  {
   "cell_type": "code",
   "execution_count": 6,
   "id": "3c2366fb",
   "metadata": {},
   "outputs": [
    {
     "data": {
      "text/markdown": [
       "Artificial Intelligence (AI) is a dynamic and multifaceted field within computer science that aims to create systems capable of performing tasks that typically require human intelligence. These tasks include learning, reasoning, problem-solving, perception, and natural language processing. AI is applied across various industries such as healthcare, finance, transportation, education, and entertainment, enhancing efficiency and innovation.\n",
       "\n",
       "### Key Concepts and Techniques:\n",
       "1. **Machine Learning (ML):** A subset of AI where systems learn from data to improve task performance over time.\n",
       "2. **Deep Learning:** A specific type of ML using neural networks with multiple layers to learn complex patterns.\n",
       "3. **Computer Vision:** Enables machines to interpret visual data, crucial for applications like self-driving cars.\n",
       "4. **Natural Language Processing (NLP):** Allows machines to understand and generate human language, used in chatbots and voice assistants.\n",
       "5. **Robotics:** Combines AI with physical machines to perform tasks autonomously.\n",
       "6. **Expert Systems:** Mimic human decision-making in specific domains.\n",
       "\n",
       "### Applications and Impact:\n",
       "- **Healthcare:** AI aids in disease diagnosis and personalized treatment.\n",
       "- **Finance:** Used for trading, fraud detection, and risk management.\n",
       "- **Transportation:** Facilitates autonomous vehicles and route optimization.\n",
       "- **Education:** Provides personalized learning experiences.\n",
       "- **Entertainment:** Powers recommendation systems and content creation.\n",
       "\n",
       "### Ethical Considerations:\n",
       "- **Bias and Fairness:** Ensuring AI systems are unbiased and fair.\n",
       "- **Transparency and Accountability:** Making AI decisions understandable and accountable.\n",
       "- **Privacy:** Protecting data, especially in surveillance and healthcare.\n",
       "- **Employment:** Addressing job displacement with retraining and upskilling.\n",
       "\n",
       "### Future Directions:\n",
       "- **General AI:** Aiming for human-like intelligence across tasks, still in research.\n",
       "- **Explainable AI (XAI):** Enhancing transparency in AI decisions.\n",
       "- **Edge AI:** Processing data locally for efficiency and privacy.\n",
       "- **Quantum AI:** Leveraging quantum computing for complex problem-solving.\n",
       "\n",
       "### Societal and Global Implications:\n",
       "- **Environmental Conservation:** Monitoring and sustainable resource management.\n",
       "- **Agriculture:** Precision farming and sustainable practices.\n",
       "- **Global Competition:** Nations investing in AI research and collaboration.\n",
       "- **Education and Literacy:** Preparing the workforce and public for AI integration.\n",
       "\n",
       "### Conclusion:\n",
       "AI holds immense potential to solve significant challenges but also poses risks. Balancing benefits and risks through ethical considerations and responsible development is crucial. As AI evolves, ongoing research, ethical discourse, and public engagement will shape its societal role."
      ],
      "text/plain": [
       "<IPython.core.display.Markdown object>"
      ]
     },
     "execution_count": 6,
     "metadata": {},
     "output_type": "execute_result"
    }
   ],
   "source": [
    "Markdown(remove_thinking(ask_groq(\"Artificial Intelligence is a field that aims to\", system_message=\"You are an expert in computer science.\")))"
   ]
  },
  {
   "cell_type": "code",
   "execution_count": 7,
   "id": "389d2171",
   "metadata": {},
   "outputs": [
    {
     "data": {
      "text/markdown": [
       "there lived a small, tight-knit community where everyone knew each other's names and stories. The village was called Elmsworth, and it was a place where time seemed to move slower, where the air was crisp and clean, and where the sound of the river flowing through the heart of the village was a constant companion.\n",
       "\n",
       "Elmsworth was surrounded by towering mountains that turned golden in the summer and white in the winter. The villagers made their living by farming the fertile land, raising animals, and crafting goods from the abundant resources of the forest—wood, wool, and stone. Life was simple, but it was rich in tradition and love.\n",
       "\n",
       "At the edge of the village, there was a dense forest, its trees ancient and whispering. The villagers often spoke of the forest in hushed tones, as if it were alive. They believed it held secrets and magic, though few dared to venture too deep into its shadows. The forest was both a source of wonder and a place of mystery, a reminder of the world's vastness beyond their little village.\n",
       "\n",
       "One day, a young girl named Lily wandered closer to the forest than she ever had before. She had heard the whispers of the villagers, but she was curious, with a heart full of wonder and a mind full of questions. As she stepped into the cool shade of the trees, she felt a strange tingling in the air, as though the forest was watching her. And perhaps it was."
      ],
      "text/plain": [
       "<IPython.core.display.Markdown object>"
      ]
     },
     "execution_count": 7,
     "metadata": {},
     "output_type": "execute_result"
    }
   ],
   "source": [
    "Markdown(remove_thinking(ask_groq(\"Once upon a time, in a small village surrounded by mountains,\", system_message=\"You are a creative story writer.\")))"
   ]
  },
  {
   "cell_type": "markdown",
   "id": "0270625a",
   "metadata": {},
   "source": [
    "# Question and Answer (سؤال وجواب)"
   ]
  },
  {
   "cell_type": "code",
   "execution_count": 8,
   "id": "3eb74798",
   "metadata": {},
   "outputs": [
    {
     "data": {
      "text/markdown": [
       "**Supervised vs. Unsupervised Learning: A Comprehensive Overview**\n",
       "\n",
       "**1. Definitions and Data Usage:**\n",
       "   - **Supervised Learning:** Utilizes labeled data, where each training example is paired with the correct output. The model learns by example, akin to a teacher guiding a student.\n",
       "   - **Unsupervised Learning:** Employs unlabeled data, requiring the model to discover hidden patterns or intrinsic structures without prior knowledge of outputs.\n",
       "\n",
       "**2. Objectives:**\n",
       "   - **Supervised Learning:** Aims to learn a mapping from inputs to outputs, enabling predictions or classifications.\n",
       "   - **Unsupervised Learning:** Seeks to uncover underlying data structures, such as clusters or associations.\n",
       "\n",
       "**3. Applications:**\n",
       "   - **Supervised Learning:** Commonly used in prediction tasks like image classification, speech recognition, and regression analysis (e.g., predicting house prices).\n",
       "   - **Unsupervised Learning:** Applied in exploratory data analysis, customer segmentation, anomaly detection, and dimensionality reduction (e.g., PCA).\n",
       "\n",
       "**4. Algorithms:**\n",
       "   - **Supervised Learning:** Includes algorithms like linear regression, decision trees, SVMs, and neural networks.\n",
       "   - **Unsupervised Learning:** Involves techniques such as k-means clustering, hierarchical clustering, and dimensionality reduction methods.\n",
       "\n",
       "**5. Data Considerations:**\n",
       "   - **Supervised Learning:** Requires labeled data, which can be costly and time-consuming to obtain.\n",
       "   - **Unsupervised Learning:** Works with unlabeled data, which is often more abundant but challenging to analyze.\n",
       "\n",
       "**6. Evaluation:**\n",
       "   - **Supervised Learning:** Easier to evaluate using metrics like accuracy or RMSE by comparing predictions to actual labels.\n",
       "   - **Unsupervised Learning:** More complex to evaluate, often using indirect metrics like silhouette score for clustering.\n",
       "\n",
       "**7. Challenges:**\n",
       "   - **Supervised Learning:** Risks overfitting, especially with noisy labels.\n",
       "   - **Unsupervised Learning:** Challenges include determining the number of clusters and handling high-dimensional data.\n",
       "\n",
       "**8. Real-World Applications:**\n",
       "   - **Supervised Learning:** Used in image classification, speech recognition, and predictive modeling.\n",
       "   - **Unsupervised Learning:** Applied in customer segmentation, anomaly detection, and gene expression analysis.\n",
       "\n",
       "**Conclusion:**\n",
       "The choice between supervised and unsupervised learning depends on the problem's nature and data availability. Supervised learning excels in prediction tasks with labeled data, while unsupervised learning is ideal for exploring data to uncover hidden patterns. Understanding the problem and data is crucial for selecting the appropriate approach."
      ],
      "text/plain": [
       "<IPython.core.display.Markdown object>"
      ]
     },
     "execution_count": 8,
     "metadata": {},
     "output_type": "execute_result"
    }
   ],
   "source": [
    "Markdown(remove_thinking(ask_groq(\"What is the difference between supervised and unsupervised learning?\", system_message=\"You are a data science teacher.\")))"
   ]
  },
  {
   "cell_type": "markdown",
   "id": "ff93377c",
   "metadata": {},
   "source": [
    "# Summarization (تلخيص نص)"
   ]
  },
  {
   "cell_type": "code",
   "execution_count": 9,
   "id": "07a73570",
   "metadata": {},
   "outputs": [
    {
     "data": {
      "text/markdown": [
       "Artificial intelligence (AI) involves machines simulating human intelligence processes like thinking and learning. It is applied across industries such as healthcare, finance, and transportation, with key applications including natural language processing, computer vision, and decision-making systems."
      ],
      "text/plain": [
       "<IPython.core.display.Markdown object>"
      ]
     },
     "execution_count": 9,
     "metadata": {},
     "output_type": "execute_result"
    }
   ],
   "source": [
    "long_text = \"\"\"\n",
    "Artificial intelligence (AI) refers to the simulation of human intelligence in machines that are programmed to think and learn. \n",
    "AI is being used across various industries, including healthcare, finance, transportation, and more. \n",
    "Its applications range from natural language processing to computer vision and decision-making systems.\n",
    "\"\"\"\n",
    "Markdown(remove_thinking(ask_groq(f\"Please summarize the following text:\\n{long_text}\", system_message=\"You are a professional summarizer.\")))\n"
   ]
  }
 ],
 "metadata": {
  "kernelspec": {
   "display_name": "Python (myenv)",
   "language": "python",
   "name": "myenv"
  },
  "language_info": {
   "codemirror_mode": {
    "name": "ipython",
    "version": 3
   },
   "file_extension": ".py",
   "mimetype": "text/x-python",
   "name": "python",
   "nbconvert_exporter": "python",
   "pygments_lexer": "ipython3",
   "version": "3.10.11"
  }
 },
 "nbformat": 4,
 "nbformat_minor": 5
}
